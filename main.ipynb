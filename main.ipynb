{
 "cells": [
  {
   "cell_type": "code",
   "execution_count": 1,
   "metadata": {
    "scrolled": false
   },
   "outputs": [
    {
     "name": "stderr",
     "output_type": "stream",
     "text": [
      "INFO:root:File [data.csv] successfully created\n",
      "INFO:root:Table [data] successfully created\n",
      "INFO:root:[1074631] rows successfully inserted into table [data]\n"
     ]
    }
   ],
   "source": [
    "from csv_upload import *\n",
    "\n",
    "#db settings\n",
    "host = 'localhost'\n",
    "database = 'corners_and_cards'\n",
    "user = 'alee'\n",
    "password = 'reallyisexcellent'\n",
    "\n",
    "#configure environment and create main df\n",
    "csv_files = csv_files()\n",
    "df = create_df( csv_files)\n",
    "\n",
    "for k in csv_files:\n",
    "\n",
    "    #call dataframe\n",
    "    dataframe = df[k]\n",
    "\n",
    "    #clean table name\n",
    "    tbl_name = clean_tbl_name(k)\n",
    "    \n",
    "    #clean column names\n",
    "    col_str, dataframe.columns = clean_colname(dataframe)\n",
    "    \n",
    "    #upload data to db   \n",
    "    upload_to_db(host, \n",
    "                 database, \n",
    "                 user, \n",
    "                 password,\n",
    "                 tbl_name, \n",
    "                 col_str, \n",
    "                 dataframe)"
   ]
  },
  {
   "cell_type": "code",
   "execution_count": null,
   "metadata": {},
   "outputs": [],
   "source": []
  }
 ],
 "metadata": {
  "kernelspec": {
   "display_name": "Python 3 (ipykernel)",
   "language": "python",
   "name": "python3"
  },
  "language_info": {
   "codemirror_mode": {
    "name": "ipython",
    "version": 3
   },
   "file_extension": ".py",
   "mimetype": "text/x-python",
   "name": "python",
   "nbconvert_exporter": "python",
   "pygments_lexer": "ipython3",
   "version": "3.10.4"
  }
 },
 "nbformat": 4,
 "nbformat_minor": 4
}
